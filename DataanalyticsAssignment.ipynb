{
  "nbformat": 4,
  "nbformat_minor": 0,
  "metadata": {
    "colab": {
      "provenance": []
    },
    "kernelspec": {
      "name": "python3",
      "display_name": "Python 3"
    },
    "language_info": {
      "name": "python"
    }
  },
  "cells": [
    {
      "cell_type": "code",
      "execution_count": 1,
      "metadata": {
        "id": "3h75mhfACQYt"
      },
      "outputs": [],
      "source": [
        "import pandas as pd\n",
        "import numpy as np"
      ]
    },
    {
      "cell_type": "markdown",
      "source": [
        "**Data Cleaning**"
      ],
      "metadata": {
        "id": "8IMfdzgOCv2U"
      }
    },
    {
      "cell_type": "code",
      "source": [
        "import pandas as pd\n",
        "import numpy as np\n",
        "# Read the dataset into a pandas DataFrame\n",
        "df = pd.read_csv('/content/dataanaltyics.csv')\n",
        "# Data Cleaning\n",
        "# Replace any '?' values with NaN\n",
        "df = df.replace('?', np.nan)\n",
        "# Remove columns with a high percentage of missing values\n",
        "missing_value_threshold = 0.5 # Set the threshold for missing values\n",
        "df = df.dropna(thresh=len(df) * missing_value_threshold, axis=1)\n",
        "# Remove rows with missing values\n",
        "df = df.dropna()\n",
        "# Convert relevant columns to the appropriate data types\n",
        "# For example, if 'i1_dep_1_p' and 'i1_dep_1_e' columns represent timestamps\n",
        "df['i1_dep_1_p'] = pd.to_datetime(df['i1_dep_1_p'])\n",
        "df['i1_dep_1_e'] = pd.to_datetime(df['i1_dep_1_e'])\n",
        "# Perform any other necessary data cleaning operations\n",
        "# Print the cleaned DataFrame\n",
        "print(df.head())"
      ],
      "metadata": {
        "colab": {
          "base_uri": "https://localhost:8080/"
        },
        "id": "eyYkagc4C331",
        "outputId": "d833af5f-02f5-435f-9aa1-468afc8e2d81"
      },
      "execution_count": 2,
      "outputs": [
        {
          "output_type": "stream",
          "name": "stdout",
          "text": [
            "   nr  i1_legid  i1_rcs_p  i1_rcs_e                    i1_dep_1_p  \\\n",
            "0   0      5182       199       218 1970-01-01 00:00:00.000000210   \n",
            "1   1      6523       844       584 1970-01-01 00:00:00.000000090   \n",
            "5   5      9889       181        98 1970-01-01 00:00:00.000000240   \n",
            "6   6      3997      1300       212 1970-01-01 00:00:00.000000240   \n",
            "7   7      7125       139        87 1970-01-01 00:00:00.000000240   \n",
            "\n",
            "                     i1_dep_1_e  i1_dep_1_place  i1_rcf_1_p  i1_rcf_1_e  \\\n",
            "0 1970-01-01 00:00:00.000000215             609         935         736   \n",
            "1 1970-01-01 00:00:00.000000297             700        1935        1415   \n",
            "5 1970-01-01 00:00:00.000000259             815         215         223   \n",
            "6 1970-01-01 00:00:00.000001267             815         270         135   \n",
            "7 1970-01-01 00:00:00.000000232             783         255         154   \n",
            "\n",
            "   i1_rcf_1_place  ...  o_dep_1_p  o_dep_1_e  o_dep_1_place o_rcf_1_p  \\\n",
            "0             256  ...        240       2865            256      1330   \n",
            "1             431  ...        300        286            431       835   \n",
            "5             128  ...        240        308            128       960   \n",
            "6             391  ...        570        763            391        80   \n",
            "7             815  ...        240        298            128       960   \n",
            "\n",
            "  o_rcf_1_e o_rcf_1_place o_dlv_p o_dlv_e o_hops legs  \n",
            "0      1265           411     780     434      1    2  \n",
            "1       526           256    3870     445      1    2  \n",
            "5       682           597    3960     467      1    2  \n",
            "6        79           281    2880     151      1    3  \n",
            "7       678           597    3960     161      1    2  \n",
            "\n",
            "[5 rows x 38 columns]\n"
          ]
        }
      ]
    },
    {
      "cell_type": "code",
      "source": [
        "# Display the cleaned DataFrame\n",
        "print(df)"
      ],
      "metadata": {
        "colab": {
          "base_uri": "https://localhost:8080/"
        },
        "id": "L_hNs7fGDY8i",
        "outputId": "b1932fd1-7103-4de6-ad65-d6c1fc36d03b"
      },
      "execution_count": 3,
      "outputs": [
        {
          "output_type": "stream",
          "name": "stdout",
          "text": [
            "        nr  i1_legid  i1_rcs_p  i1_rcs_e                    i1_dep_1_p  \\\n",
            "0        0      5182       199       218 1970-01-01 00:00:00.000000210   \n",
            "1        1      6523       844       584 1970-01-01 00:00:00.000000090   \n",
            "5        5      9889       181        98 1970-01-01 00:00:00.000000240   \n",
            "6        6      3997      1300       212 1970-01-01 00:00:00.000000240   \n",
            "7        7      7125       139        87 1970-01-01 00:00:00.000000240   \n",
            "...    ...       ...       ...       ...                           ...   \n",
            "3935  3936      9814       675       113 1970-01-01 00:00:00.000000240   \n",
            "3936  3937      2163      4772      3941 1970-01-01 00:00:00.000000090   \n",
            "3937  3938      4166       703       360 1970-01-01 00:00:00.000000210   \n",
            "3938  3939      4225       122        19 1970-01-01 00:00:00.000000240   \n",
            "3941  3942      6472      2692      1856 1970-01-01 00:00:00.000000090   \n",
            "\n",
            "                        i1_dep_1_e  i1_dep_1_place  i1_rcf_1_p  i1_rcf_1_e  \\\n",
            "0    1970-01-01 00:00:00.000000215             609         935         736   \n",
            "1    1970-01-01 00:00:00.000000297             700        1935        1415   \n",
            "5    1970-01-01 00:00:00.000000259             815         215         223   \n",
            "6    1970-01-01 00:00:00.000001267             815         270         135   \n",
            "7    1970-01-01 00:00:00.000000232             783         255         154   \n",
            "...                            ...             ...         ...         ...   \n",
            "3935 1970-01-01 00:00:00.000000741             815         260         197   \n",
            "3936 1970-01-01 00:00:00.000000860             700         845         545   \n",
            "3937 1970-01-01 00:00:00.000000493             233        1000         908   \n",
            "3938 1970-01-01 00:00:00.000000278             815         830         761   \n",
            "3941 1970-01-01 00:00:00.000000867             700        1060        1049   \n",
            "\n",
            "      i1_rcf_1_place  ...  o_dep_1_p  o_dep_1_e  o_dep_1_place o_rcf_1_p  \\\n",
            "0                256  ...        240       2865            256      1330   \n",
            "1                431  ...        300        286            431       835   \n",
            "5                128  ...        240        308            128       960   \n",
            "6                391  ...        570        763            391        80   \n",
            "7                815  ...        240        298            128       960   \n",
            "...              ...  ...        ...        ...            ...       ...   \n",
            "3935             134  ...        155       2525            134       775   \n",
            "3936             628  ...        300       1008            628       920   \n",
            "3937             815  ...        240        423            243       195   \n",
            "3938             174  ...        240         64            174      1555   \n",
            "3941             113  ...         90        330            113      1105   \n",
            "\n",
            "     o_rcf_1_e o_rcf_1_place o_dlv_p o_dlv_e o_hops legs  \n",
            "0         1265           411     780     434      1    2  \n",
            "1          526           256    3870     445      1    2  \n",
            "5          682           597    3960     467      1    2  \n",
            "6           79           281    2880     151      1    3  \n",
            "7          678           597    3960     161      1    2  \n",
            "...        ...           ...     ...     ...    ...  ...  \n",
            "3935       691           339    2820    1734      1    2  \n",
            "3936       896           128    3960     571      2    2  \n",
            "3937       420           317     300    2512      2    3  \n",
            "3938      1393           349    1665    1300      2    3  \n",
            "3941       916           700    3780     945      2    2  \n",
            "\n",
            "[2624 rows x 38 columns]\n"
          ]
        }
      ]
    },
    {
      "cell_type": "code",
      "source": [
        "df.head()"
      ],
      "metadata": {
        "colab": {
          "base_uri": "https://localhost:8080/",
          "height": 386
        },
        "id": "8FBg9L6mDecA",
        "outputId": "997d7d27-6727-414a-c445-1e931907b0fc"
      },
      "execution_count": 4,
      "outputs": [
        {
          "output_type": "execute_result",
          "data": {
            "text/plain": [
              "   nr  i1_legid  i1_rcs_p  i1_rcs_e                    i1_dep_1_p  \\\n",
              "0   0      5182       199       218 1970-01-01 00:00:00.000000210   \n",
              "1   1      6523       844       584 1970-01-01 00:00:00.000000090   \n",
              "5   5      9889       181        98 1970-01-01 00:00:00.000000240   \n",
              "6   6      3997      1300       212 1970-01-01 00:00:00.000000240   \n",
              "7   7      7125       139        87 1970-01-01 00:00:00.000000240   \n",
              "\n",
              "                     i1_dep_1_e  i1_dep_1_place  i1_rcf_1_p  i1_rcf_1_e  \\\n",
              "0 1970-01-01 00:00:00.000000215             609         935         736   \n",
              "1 1970-01-01 00:00:00.000000297             700        1935        1415   \n",
              "5 1970-01-01 00:00:00.000000259             815         215         223   \n",
              "6 1970-01-01 00:00:00.000001267             815         270         135   \n",
              "7 1970-01-01 00:00:00.000000232             783         255         154   \n",
              "\n",
              "   i1_rcf_1_place  ...  o_dep_1_p  o_dep_1_e  o_dep_1_place o_rcf_1_p  \\\n",
              "0             256  ...        240       2865            256      1330   \n",
              "1             431  ...        300        286            431       835   \n",
              "5             128  ...        240        308            128       960   \n",
              "6             391  ...        570        763            391        80   \n",
              "7             815  ...        240        298            128       960   \n",
              "\n",
              "  o_rcf_1_e o_rcf_1_place o_dlv_p o_dlv_e o_hops legs  \n",
              "0      1265           411     780     434      1    2  \n",
              "1       526           256    3870     445      1    2  \n",
              "5       682           597    3960     467      1    2  \n",
              "6        79           281    2880     151      1    3  \n",
              "7       678           597    3960     161      1    2  \n",
              "\n",
              "[5 rows x 38 columns]"
            ],
            "text/html": [
              "\n",
              "  <div id=\"df-1a0cd2f9-f549-4d0a-b53b-3f4222501eb3\">\n",
              "    <div class=\"colab-df-container\">\n",
              "      <div>\n",
              "<style scoped>\n",
              "    .dataframe tbody tr th:only-of-type {\n",
              "        vertical-align: middle;\n",
              "    }\n",
              "\n",
              "    .dataframe tbody tr th {\n",
              "        vertical-align: top;\n",
              "    }\n",
              "\n",
              "    .dataframe thead th {\n",
              "        text-align: right;\n",
              "    }\n",
              "</style>\n",
              "<table border=\"1\" class=\"dataframe\">\n",
              "  <thead>\n",
              "    <tr style=\"text-align: right;\">\n",
              "      <th></th>\n",
              "      <th>nr</th>\n",
              "      <th>i1_legid</th>\n",
              "      <th>i1_rcs_p</th>\n",
              "      <th>i1_rcs_e</th>\n",
              "      <th>i1_dep_1_p</th>\n",
              "      <th>i1_dep_1_e</th>\n",
              "      <th>i1_dep_1_place</th>\n",
              "      <th>i1_rcf_1_p</th>\n",
              "      <th>i1_rcf_1_e</th>\n",
              "      <th>i1_rcf_1_place</th>\n",
              "      <th>...</th>\n",
              "      <th>o_dep_1_p</th>\n",
              "      <th>o_dep_1_e</th>\n",
              "      <th>o_dep_1_place</th>\n",
              "      <th>o_rcf_1_p</th>\n",
              "      <th>o_rcf_1_e</th>\n",
              "      <th>o_rcf_1_place</th>\n",
              "      <th>o_dlv_p</th>\n",
              "      <th>o_dlv_e</th>\n",
              "      <th>o_hops</th>\n",
              "      <th>legs</th>\n",
              "    </tr>\n",
              "  </thead>\n",
              "  <tbody>\n",
              "    <tr>\n",
              "      <th>0</th>\n",
              "      <td>0</td>\n",
              "      <td>5182</td>\n",
              "      <td>199</td>\n",
              "      <td>218</td>\n",
              "      <td>1970-01-01 00:00:00.000000210</td>\n",
              "      <td>1970-01-01 00:00:00.000000215</td>\n",
              "      <td>609</td>\n",
              "      <td>935</td>\n",
              "      <td>736</td>\n",
              "      <td>256</td>\n",
              "      <td>...</td>\n",
              "      <td>240</td>\n",
              "      <td>2865</td>\n",
              "      <td>256</td>\n",
              "      <td>1330</td>\n",
              "      <td>1265</td>\n",
              "      <td>411</td>\n",
              "      <td>780</td>\n",
              "      <td>434</td>\n",
              "      <td>1</td>\n",
              "      <td>2</td>\n",
              "    </tr>\n",
              "    <tr>\n",
              "      <th>1</th>\n",
              "      <td>1</td>\n",
              "      <td>6523</td>\n",
              "      <td>844</td>\n",
              "      <td>584</td>\n",
              "      <td>1970-01-01 00:00:00.000000090</td>\n",
              "      <td>1970-01-01 00:00:00.000000297</td>\n",
              "      <td>700</td>\n",
              "      <td>1935</td>\n",
              "      <td>1415</td>\n",
              "      <td>431</td>\n",
              "      <td>...</td>\n",
              "      <td>300</td>\n",
              "      <td>286</td>\n",
              "      <td>431</td>\n",
              "      <td>835</td>\n",
              "      <td>526</td>\n",
              "      <td>256</td>\n",
              "      <td>3870</td>\n",
              "      <td>445</td>\n",
              "      <td>1</td>\n",
              "      <td>2</td>\n",
              "    </tr>\n",
              "    <tr>\n",
              "      <th>5</th>\n",
              "      <td>5</td>\n",
              "      <td>9889</td>\n",
              "      <td>181</td>\n",
              "      <td>98</td>\n",
              "      <td>1970-01-01 00:00:00.000000240</td>\n",
              "      <td>1970-01-01 00:00:00.000000259</td>\n",
              "      <td>815</td>\n",
              "      <td>215</td>\n",
              "      <td>223</td>\n",
              "      <td>128</td>\n",
              "      <td>...</td>\n",
              "      <td>240</td>\n",
              "      <td>308</td>\n",
              "      <td>128</td>\n",
              "      <td>960</td>\n",
              "      <td>682</td>\n",
              "      <td>597</td>\n",
              "      <td>3960</td>\n",
              "      <td>467</td>\n",
              "      <td>1</td>\n",
              "      <td>2</td>\n",
              "    </tr>\n",
              "    <tr>\n",
              "      <th>6</th>\n",
              "      <td>6</td>\n",
              "      <td>3997</td>\n",
              "      <td>1300</td>\n",
              "      <td>212</td>\n",
              "      <td>1970-01-01 00:00:00.000000240</td>\n",
              "      <td>1970-01-01 00:00:00.000001267</td>\n",
              "      <td>815</td>\n",
              "      <td>270</td>\n",
              "      <td>135</td>\n",
              "      <td>391</td>\n",
              "      <td>...</td>\n",
              "      <td>570</td>\n",
              "      <td>763</td>\n",
              "      <td>391</td>\n",
              "      <td>80</td>\n",
              "      <td>79</td>\n",
              "      <td>281</td>\n",
              "      <td>2880</td>\n",
              "      <td>151</td>\n",
              "      <td>1</td>\n",
              "      <td>3</td>\n",
              "    </tr>\n",
              "    <tr>\n",
              "      <th>7</th>\n",
              "      <td>7</td>\n",
              "      <td>7125</td>\n",
              "      <td>139</td>\n",
              "      <td>87</td>\n",
              "      <td>1970-01-01 00:00:00.000000240</td>\n",
              "      <td>1970-01-01 00:00:00.000000232</td>\n",
              "      <td>783</td>\n",
              "      <td>255</td>\n",
              "      <td>154</td>\n",
              "      <td>815</td>\n",
              "      <td>...</td>\n",
              "      <td>240</td>\n",
              "      <td>298</td>\n",
              "      <td>128</td>\n",
              "      <td>960</td>\n",
              "      <td>678</td>\n",
              "      <td>597</td>\n",
              "      <td>3960</td>\n",
              "      <td>161</td>\n",
              "      <td>1</td>\n",
              "      <td>2</td>\n",
              "    </tr>\n",
              "  </tbody>\n",
              "</table>\n",
              "<p>5 rows × 38 columns</p>\n",
              "</div>\n",
              "      <button class=\"colab-df-convert\" onclick=\"convertToInteractive('df-1a0cd2f9-f549-4d0a-b53b-3f4222501eb3')\"\n",
              "              title=\"Convert this dataframe to an interactive table.\"\n",
              "              style=\"display:none;\">\n",
              "        \n",
              "  <svg xmlns=\"http://www.w3.org/2000/svg\" height=\"24px\"viewBox=\"0 0 24 24\"\n",
              "       width=\"24px\">\n",
              "    <path d=\"M0 0h24v24H0V0z\" fill=\"none\"/>\n",
              "    <path d=\"M18.56 5.44l.94 2.06.94-2.06 2.06-.94-2.06-.94-.94-2.06-.94 2.06-2.06.94zm-11 1L8.5 8.5l.94-2.06 2.06-.94-2.06-.94L8.5 2.5l-.94 2.06-2.06.94zm10 10l.94 2.06.94-2.06 2.06-.94-2.06-.94-.94-2.06-.94 2.06-2.06.94z\"/><path d=\"M17.41 7.96l-1.37-1.37c-.4-.4-.92-.59-1.43-.59-.52 0-1.04.2-1.43.59L10.3 9.45l-7.72 7.72c-.78.78-.78 2.05 0 2.83L4 21.41c.39.39.9.59 1.41.59.51 0 1.02-.2 1.41-.59l7.78-7.78 2.81-2.81c.8-.78.8-2.07 0-2.86zM5.41 20L4 18.59l7.72-7.72 1.47 1.35L5.41 20z\"/>\n",
              "  </svg>\n",
              "      </button>\n",
              "      \n",
              "  <style>\n",
              "    .colab-df-container {\n",
              "      display:flex;\n",
              "      flex-wrap:wrap;\n",
              "      gap: 12px;\n",
              "    }\n",
              "\n",
              "    .colab-df-convert {\n",
              "      background-color: #E8F0FE;\n",
              "      border: none;\n",
              "      border-radius: 50%;\n",
              "      cursor: pointer;\n",
              "      display: none;\n",
              "      fill: #1967D2;\n",
              "      height: 32px;\n",
              "      padding: 0 0 0 0;\n",
              "      width: 32px;\n",
              "    }\n",
              "\n",
              "    .colab-df-convert:hover {\n",
              "      background-color: #E2EBFA;\n",
              "      box-shadow: 0px 1px 2px rgba(60, 64, 67, 0.3), 0px 1px 3px 1px rgba(60, 64, 67, 0.15);\n",
              "      fill: #174EA6;\n",
              "    }\n",
              "\n",
              "    [theme=dark] .colab-df-convert {\n",
              "      background-color: #3B4455;\n",
              "      fill: #D2E3FC;\n",
              "    }\n",
              "\n",
              "    [theme=dark] .colab-df-convert:hover {\n",
              "      background-color: #434B5C;\n",
              "      box-shadow: 0px 1px 3px 1px rgba(0, 0, 0, 0.15);\n",
              "      filter: drop-shadow(0px 1px 2px rgba(0, 0, 0, 0.3));\n",
              "      fill: #FFFFFF;\n",
              "    }\n",
              "  </style>\n",
              "\n",
              "      <script>\n",
              "        const buttonEl =\n",
              "          document.querySelector('#df-1a0cd2f9-f549-4d0a-b53b-3f4222501eb3 button.colab-df-convert');\n",
              "        buttonEl.style.display =\n",
              "          google.colab.kernel.accessAllowed ? 'block' : 'none';\n",
              "\n",
              "        async function convertToInteractive(key) {\n",
              "          const element = document.querySelector('#df-1a0cd2f9-f549-4d0a-b53b-3f4222501eb3');\n",
              "          const dataTable =\n",
              "            await google.colab.kernel.invokeFunction('convertToInteractive',\n",
              "                                                     [key], {});\n",
              "          if (!dataTable) return;\n",
              "\n",
              "          const docLinkHtml = 'Like what you see? Visit the ' +\n",
              "            '<a target=\"_blank\" href=https://colab.research.google.com/notebooks/data_table.ipynb>data table notebook</a>'\n",
              "            + ' to learn more about interactive tables.';\n",
              "          element.innerHTML = '';\n",
              "          dataTable['output_type'] = 'display_data';\n",
              "          await google.colab.output.renderOutput(dataTable, element);\n",
              "          const docLink = document.createElement('div');\n",
              "          docLink.innerHTML = docLinkHtml;\n",
              "          element.appendChild(docLink);\n",
              "        }\n",
              "      </script>\n",
              "    </div>\n",
              "  </div>\n",
              "  "
            ]
          },
          "metadata": {},
          "execution_count": 4
        }
      ]
    },
    {
      "cell_type": "markdown",
      "source": [
        "**Feature Extraction**"
      ],
      "metadata": {
        "id": "w2uRFS3jDmhz"
      }
    },
    {
      "cell_type": "code",
      "source": [
        "import pandas as pd \n",
        "import numpy as np \n",
        "from sklearn.ensemble import RandomForestClassifier \n",
        "from sklearn.feature_selection import SelectFromModel \n",
        " \n",
        "# Load the dataset \n",
        "df = pd.read_csv('/content/dataanaltyics.csv', na_values='?') \n",
        " \n",
        "# Separate the features and target variable \n",
        "X = df.drop('legs', axis=1) \n",
        "y = df['legs'] \n",
        " \n",
        "# Calculate the correlation matrix \n",
        "correlation_matrix = X.corr() \n",
        " \n",
        "# Identify highly correlated features \n",
        "correlated_features = set() \n",
        "for i in range(len(correlation_matrix.columns)): \n",
        "    for j in range(i): \n",
        "        if abs(correlation_matrix.iloc[i, j]) > 0.8: \n",
        "            colname = correlation_matrix.columns[i] \n",
        "            correlated_features.add(colname) \n",
        " \n",
        "# Remove highly correlated features \n",
        "X_filtered = X.drop(correlated_features, axis=1) \n",
        " \n",
        "# Handle missing values \n",
        "X_filtered = X_filtered.fillna(X_filtered.mean()) \n",
        " \n",
        "# Perform feature selection using Random Forest \n",
        "clf = RandomForestClassifier() \n",
        "clf.fit(X_filtered, y) \n",
        "importances = clf.feature_importances_ \n",
        " \n",
        "# Select features based on importance scores \n",
        "sfm = SelectFromModel(clf, threshold=0.05) \n",
        "X_selected = sfm.fit_transform(X_filtered, y) \n",
        " \n",
        "# Get the selected feature names \n",
        "selected_feature_names = X_filtered.columns[sfm.get_support()] \n",
        " \n",
        "# Print the selected feature names \n",
        "print(\"Selected Features:\") \n",
        "print(selected_feature_names)"
      ],
      "metadata": {
        "colab": {
          "base_uri": "https://localhost:8080/"
        },
        "id": "E3Cy9MBPDp4n",
        "outputId": "8589d270-f33d-43f8-d742-cc5fb1611298"
      },
      "execution_count": 8,
      "outputs": [
        {
          "output_type": "stream",
          "name": "stdout",
          "text": [
            "Selected Features:\n",
            "Index(['i2_rcs_p', 'i2_dlv_p', 'i2_dlv_e', 'i2_hops', 'i3_rcs_p', 'i3_dep_1_p',\n",
            "       'i3_dlv_e', 'i3_hops'],\n",
            "      dtype='object')\n"
          ]
        }
      ]
    },
    {
      "cell_type": "code",
      "source": [
        "import pandas as pd\n",
        "# Load the dataset\n",
        "df = pd.read_csv('/content/dataanaltyics.csv', na_values='?')\n",
        "# Calculate the correlation matrix\n",
        "correlation_matrix = df.corr()\n",
        "# Display the correlation matrix\n",
        "print(\"Correlation Matrix:\")\n",
        "print(correlation_matrix)"
      ],
      "metadata": {
        "colab": {
          "base_uri": "https://localhost:8080/"
        },
        "id": "0q-DHSd2Eoq1",
        "outputId": "ab4597b3-fce7-4cdc-8cee-913b486adc5a"
      },
      "execution_count": 10,
      "outputs": [
        {
          "output_type": "stream",
          "name": "stdout",
          "text": [
            "Correlation Matrix:\n",
            "                     nr  i1_legid  i1_rcs_p  i1_rcs_e  i1_dep_1_p  i1_dep_1_e  \\\n",
            "nr             1.000000  0.054137 -0.006139 -0.008626    0.007932    0.018017   \n",
            "i1_legid       0.054137  1.000000 -0.003380 -0.008755    0.018778    0.033006   \n",
            "i1_rcs_p      -0.006139 -0.003380  1.000000  0.988858   -0.078617    0.241439   \n",
            "i1_rcs_e      -0.008626 -0.008755  0.988858  1.000000   -0.076069    0.107503   \n",
            "i1_dep_1_p     0.007932  0.018778 -0.078617 -0.076069    1.000000    0.158433   \n",
            "...                 ...       ...       ...       ...         ...         ...   \n",
            "o_rcf_3_place  0.479067 -0.076251 -0.136205 -0.144712   -0.055544   -0.036686   \n",
            "o_dlv_p       -0.020900 -0.019664 -0.058037 -0.051846   -0.083094   -0.072158   \n",
            "o_dlv_e        0.036480 -0.008983 -0.001311 -0.001448    0.005689    0.004024   \n",
            "o_hops         0.207686  0.028632 -0.053237 -0.052053    0.062599   -0.010344   \n",
            "legs          -0.020506 -0.000270 -0.010434 -0.015600    0.005128    0.029478   \n",
            "\n",
            "               i1_dep_1_place  i1_rcf_1_p  i1_rcf_1_e  i1_rcf_1_place  ...  \\\n",
            "nr                   0.042805   -0.007192   -0.005257       -0.007167  ...   \n",
            "i1_legid            -0.091992   -0.016342   -0.002137       -0.024107  ...   \n",
            "i1_rcs_p            -0.061119    0.241838    0.123249        0.107112  ...   \n",
            "i1_rcs_e            -0.054392    0.210660    0.104071        0.101215  ...   \n",
            "i1_dep_1_p          -0.047034    0.024764    0.062353       -0.120026  ...   \n",
            "...                       ...         ...         ...             ...  ...   \n",
            "o_rcf_3_place        0.136597   -0.164348   -0.119450       -0.180684  ...   \n",
            "o_dlv_p              0.046592   -0.074432   -0.042476        0.065341  ...   \n",
            "o_dlv_e             -0.006562   -0.004621   -0.002498        0.039066  ...   \n",
            "o_hops               0.026225   -0.109819   -0.064511       -0.085367  ...   \n",
            "legs                 0.002687    0.001557   -0.000976        0.006838  ...   \n",
            "\n",
            "               o_dep_3_p  o_dep_3_e  o_dep_3_place  o_rcf_3_p  o_rcf_3_e  \\\n",
            "nr             -0.290120  -0.443573       0.191895   0.214343   0.239098   \n",
            "i1_legid        0.068782  -0.002896       0.252738   0.382628   0.190480   \n",
            "i1_rcs_p        0.099127   0.153641      -0.261359   0.288903   0.044054   \n",
            "i1_rcs_e        0.102437   0.153266      -0.270014   0.292107   0.051158   \n",
            "i1_dep_1_p      0.179987   0.307460       0.071885  -0.277895  -0.204524   \n",
            "...                  ...        ...            ...        ...        ...   \n",
            "o_rcf_3_place  -0.040357  -0.055100       0.278794  -0.268522  -0.082972   \n",
            "o_dlv_p        -0.339301  -0.256884       0.404529  -0.123693   0.057067   \n",
            "o_dlv_e         0.024946   0.182380       0.327974  -0.150096  -0.144842   \n",
            "o_hops               NaN        NaN            NaN        NaN        NaN   \n",
            "legs            0.058017   0.171343       0.104036  -0.097177   0.130660   \n",
            "\n",
            "               o_rcf_3_place   o_dlv_p   o_dlv_e    o_hops      legs  \n",
            "nr                  0.479067 -0.020900  0.036480  0.207686 -0.020506  \n",
            "i1_legid           -0.076251 -0.019664 -0.008983  0.028632 -0.000270  \n",
            "i1_rcs_p           -0.136205 -0.058037 -0.001311 -0.053237 -0.010434  \n",
            "i1_rcs_e           -0.144712 -0.051846 -0.001448 -0.052053 -0.015600  \n",
            "i1_dep_1_p         -0.055544 -0.083094  0.005689  0.062599  0.005128  \n",
            "...                      ...       ...       ...       ...       ...  \n",
            "o_rcf_3_place       1.000000  0.084183  0.123470       NaN  0.217297  \n",
            "o_dlv_p             0.084183  1.000000  0.058264  0.141990 -0.022433  \n",
            "o_dlv_e             0.123470  0.058264  1.000000  0.039402  0.006434  \n",
            "o_hops                   NaN  0.141990  0.039402  1.000000  0.007331  \n",
            "legs                0.217297 -0.022433  0.006434  0.007331  1.000000  \n",
            "\n",
            "[98 rows x 98 columns]\n"
          ]
        }
      ]
    },
    {
      "cell_type": "markdown",
      "source": [
        "**Feature Elimination**"
      ],
      "metadata": {
        "id": "QZDDpqCTEyS2"
      }
    },
    {
      "cell_type": "code",
      "source": [
        "import pandas as pd \n",
        "from sklearn.ensemble import RandomForestClassifier \n",
        "from sklearn.feature_selection import RFE \n",
        "from sklearn.impute import SimpleImputer \n",
        " \n",
        "# Load the dataset \n",
        "df = pd.read_csv('/content/dataanaltyics.csv') \n",
        " \n",
        "# Replace '?' with NaN \n",
        "df.replace('?', pd.NA, inplace=True) \n",
        " \n",
        "# Convert columns to numeric \n",
        "df = df.apply(pd.to_numeric, errors='ignore') \n",
        " \n",
        "# Separate the features and target variable \n",
        "X = df.drop('legs', axis=1) \n",
        "y = df['legs'] \n",
        " \n",
        "# Handle missing values using SimpleImputer \n",
        "imputer = SimpleImputer() \n",
        "X_imputed = imputer.fit_transform(X) \n",
        " \n",
        "# Create a Random Forest classifier \n",
        "clf = RandomForestClassifier() \n",
        " \n",
        "# Perform feature elimination using RFE \n",
        "rfe = RFE(estimator=clf, n_features_to_select=5)  # Select top 5 features \n",
        "X_selected = rfe.fit_transform(X_imputed, y) \n",
        " \n",
        "# Get the selected feature names \n",
        "selected_feature_names = X.columns[rfe.support_] \n",
        " \n",
        "# Print the selected feature names \n",
        "print(\"Selected Features:\") \n",
        "print(selected_feature_names)"
      ],
      "metadata": {
        "colab": {
          "base_uri": "https://localhost:8080/"
        },
        "id": "Qq550pW4E2ho",
        "outputId": "72d24943-9eca-436d-b011-901bcc1f26fa"
      },
      "execution_count": 14,
      "outputs": [
        {
          "output_type": "stream",
          "name": "stdout",
          "text": [
            "Selected Features:\n",
            "Index(['i2_rcs_p', 'i2_rcs_e', 'i3_rcs_p', 'i3_rcs_e', 'i3_dlv_e'], dtype='object')\n"
          ]
        }
      ]
    },
    {
      "cell_type": "markdown",
      "source": [
        "**Root Node**"
      ],
      "metadata": {
        "id": "Ndq5z67TF2S-"
      }
    },
    {
      "cell_type": "code",
      "source": [
        "import pandas as pd \n",
        "from sklearn.ensemble import RandomForestClassifier \n",
        "import numpy as np \n",
        " \n",
        "# Load the dataset \n",
        "df = pd.read_csv('/content/dataanaltyics.csv', na_values='?') \n",
        " \n",
        "# Replace remaining missing values with NaN \n",
        "df.replace('?', np.nan, inplace=True) \n",
        " \n",
        "# Separate the features and target variable \n",
        "X = df.drop('legs', axis=1) \n",
        "y = df['legs'] \n",
        " \n",
        "# Initialize the Random Forest classifier \n",
        "clf = RandomForestClassifier() \n",
        " \n",
        "# Fill missing values with the mean of each column \n",
        "X.fillna(X.mean(), inplace=True) \n",
        " \n",
        "# Fit the classifier on the data \n",
        "clf.fit(X, y) \n",
        " \n",
        "# Get feature importance scores \n",
        "importance_scores = clf.feature_importances_ \n",
        " \n",
        "# Find the index of the most important feature (root node) \n",
        "root_node_index = importance_scores.argmax() \n",
        " \n",
        "# Get the name of the most important feature \n",
        "root_node_feature = X.columns[root_node_index] \n",
        " \n",
        "# Print the most important feature \n",
        "print(\"Root Node Feature:\") \n",
        "print(root_node_feature)"
      ],
      "metadata": {
        "colab": {
          "base_uri": "https://localhost:8080/"
        },
        "id": "Aoptg1pLF5Sg",
        "outputId": "1e8fb0fe-e6c0-4189-9ba6-bd91775f93a1"
      },
      "execution_count": 16,
      "outputs": [
        {
          "output_type": "stream",
          "name": "stdout",
          "text": [
            "Root Node Feature:\n",
            "i3_rcs_e\n"
          ]
        }
      ]
    },
    {
      "cell_type": "markdown",
      "source": [
        "**VISUALIZATION**"
      ],
      "metadata": {
        "id": "W36xsEY3GLRm"
      }
    },
    {
      "cell_type": "code",
      "source": [
        "import matplotlib.pyplot as plt\n",
        "# Select a numerical variable to plot the histogram\n",
        "numerical_variable = 'i1_rcs_p'\n",
        "plt.hist(df[numerical_variable], bins=10)\n",
        "plt.xlabel(numerical_variable)\n",
        "plt.ylabel('Frequency')\n",
        "plt.title('Histogram of {}'.format(numerical_variable))\n",
        "plt.show()"
      ],
      "metadata": {
        "colab": {
          "base_uri": "https://localhost:8080/",
          "height": 472
        },
        "id": "9jxASeXFGNwW",
        "outputId": "d39f1ff2-c21a-4f9c-9eec-e3ee329b2810"
      },
      "execution_count": 17,
      "outputs": [
        {
          "output_type": "display_data",
          "data": {
            "text/plain": [
              "<Figure size 640x480 with 1 Axes>"
            ],
            "image/png": "[encoded data removed]"
          },
          "metadata": {}
        }
      ]
    },
    {
      "cell_type": "code",
      "source": [
        "import matplotlib.pyplot as plt\n",
        "# Select a categorical variable to plot the bar chart\n",
        "categorical_variable = 'o_hops'\n",
        "value_counts = df[categorical_variable].value_counts()\n",
        "plt.bar(value_counts.index, value_counts.values)\n",
        "plt.xlabel(categorical_variable)\n",
        "plt.ylabel('Count')\n",
        "plt.title('Bar Chart of {}'.format(categorical_variable))\n",
        "plt.show()"
      ],
      "metadata": {
        "colab": {
          "base_uri": "https://localhost:8080/",
          "height": 472
        },
        "id": "g6FyU9sVGals",
        "outputId": "69ad842b-2963-4b63-b581-63bbc6dfc936"
      },
      "execution_count": 18,
      "outputs": [
        {
          "output_type": "display_data",
          "data": {
            "text/plain": [
              "<Figure size 640x480 with 1 Axes>"
            ],
            "image/png": "[encoded data removed]"
          },
          "metadata": {}
        }
      ]
    },
    {
      "cell_type": "code",
      "source": [
        "import matplotlib.pyplot as plt\n",
        "# Select two numerical variables to plot the scatter plot\n",
        "x_variable = 'i1_rcs_p'\n",
        "y_variable = 'o_hops'\n",
        "plt.scatter(df[x_variable], df[y_variable])\n",
        "plt.xlabel(x_variable)\n",
        "plt.ylabel(y_variable)\n",
        "plt.title('Scatter Plot of {} vs {}'.format(x_variable, y_variable))\n",
        "plt.show()"
      ],
      "metadata": {
        "colab": {
          "base_uri": "https://localhost:8080/",
          "height": 472
        },
        "id": "KFFPjuhpGe3O",
        "outputId": "ac710e95-9fde-477c-fbef-a2b74f33710e"
      },
      "execution_count": 19,
      "outputs": [
        {
          "output_type": "display_data",
          "data": {
            "text/plain": [
              "<Figure size 640x480 with 1 Axes>"
            ],
            "image/png": "[encoded data removed]"
          },
          "metadata": {}
        }
      ]
    },
    {
      "cell_type": "code",
      "source": [
        "print(df.dtypes)"
      ],
      "metadata": {
        "colab": {
          "base_uri": "https://localhost:8080/"
        },
        "id": "_caqdzX3Girj",
        "outputId": "4ec6b1dc-1afb-41e3-e959-2ae621c233d5"
      },
      "execution_count": 20,
      "outputs": [
        {
          "output_type": "stream",
          "name": "stdout",
          "text": [
            "nr                 int64\n",
            "i1_legid           int64\n",
            "i1_rcs_p           int64\n",
            "i1_rcs_e           int64\n",
            "i1_dep_1_p         int64\n",
            "                  ...   \n",
            "o_rcf_3_place    float64\n",
            "o_dlv_p            int64\n",
            "o_dlv_e            int64\n",
            "o_hops             int64\n",
            "legs               int64\n",
            "Length: 98, dtype: object\n"
          ]
        }
      ]
    },
    {
      "cell_type": "markdown",
      "source": [
        "**RESULT**"
      ],
      "metadata": {
        "id": "Jd5UQUJLG1Nv"
      }
    },
    {
      "cell_type": "code",
      "source": [
        "import pandas as pd \n",
        "from sklearn.model_selection import train_test_split \n",
        "from sklearn.linear_model import LinearRegression \n",
        "from sklearn.impute import SimpleImputer \n",
        "from sklearn.metrics import mean_squared_error, r2_score \n",
        " \n",
        "# Load the dataset \n",
        "df = pd.read_csv('/content/dataanaltyics.csv') \n",
        " \n",
        "# Replace '?' with NaN \n",
        "df.replace('?', np.nan, inplace=True) \n",
        " \n",
        "# Convert columns to numeric type \n",
        "df = df.apply(pd.to_numeric, errors='coerce') \n",
        " \n",
        "# Impute missing values with the mean \n",
        "imputer = SimpleImputer(strategy='mean') \n",
        "df_imputed = pd.DataFrame(imputer.fit_transform(df), columns=df.columns) \n",
        " \n",
        "# Split the data into features (X) and the target variable (y) \n",
        "X = df_imputed.drop('legs', axis=1)  # Features \n",
        "y = df_imputed['legs']               # Target variable \n",
        " \n",
        "# Split the data into training and testing sets \n",
        "X_train, X_test, y_train, y_test = train_test_split(X, y, test_size=0.2, random_state=42) \n",
        " \n",
        "# Create an instance of the Linear Regression model \n",
        "model = LinearRegression() \n",
        " \n",
        "# Train the model \n",
        "model.fit(X_train, y_train) \n",
        " \n",
        "# Make predictions on the testing set \n",
        "y_pred = model.predict(X_test) \n",
        " \n",
        "# Calculate RMSE \n",
        "mse = mean_squared_error(y_test, y_pred) \n",
        "rmse = mean_squared_error(y_test, y_pred, squared=False)  # Calculate RMSE \n",
        " \n",
        "# Calculate R-squared \n",
        "r2 = r2_score(y_test, y_pred) \n",
        " \n",
        "print('Mean Squared Error:', mse) \n",
        "print('Root Mean Squared Error:', rmse) \n",
        "print('R-squared:', r2)"
      ],
      "metadata": {
        "colab": {
          "base_uri": "https://localhost:8080/"
        },
        "id": "lMGU1kbIG3LL",
        "outputId": "54bae80a-c9e0-4fd0-a135-49eefe4362e3"
      },
      "execution_count": 22,
      "outputs": [
        {
          "output_type": "stream",
          "name": "stdout",
          "text": [
            "Mean Squared Error: 0.7147215902123107\n",
            "Root Mean Squared Error: 0.8454120830768335\n",
            "R-squared: -0.03660907109836997\n"
          ]
        }
      ]
    }
  ]
}